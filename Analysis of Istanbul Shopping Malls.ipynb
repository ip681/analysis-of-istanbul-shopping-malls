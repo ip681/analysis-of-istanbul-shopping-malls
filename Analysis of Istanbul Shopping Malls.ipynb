{
 "cells": [
  {
   "cell_type": "code",
   "execution_count": 1,
   "id": "0ff41463",
   "metadata": {},
   "outputs": [],
   "source": [
    "import pandas as pd\n",
    "import numpy as np\n",
    "import seaborn as sns\n",
    "import matplotlib.pyplot as plt"
   ]
  },
  {
   "cell_type": "markdown",
   "id": "b5acf2e0",
   "metadata": {},
   "source": [
    "Welcome to the shopping world of Istanbul! Our dataset contains shopping information from 10 different shopping malls between 2021 and 2023. We have gathered data from various age groups and genders to provide a comprehensive view of shopping habits in Istanbul. The dataset includes essential information such as invoice numbers, customer IDs, age, gender, payment methods, product categories, quantity, price, order dates, and shopping mall locations. "
   ]
  },
  {
   "cell_type": "markdown",
   "id": "652e4853",
   "metadata": {},
   "source": [
    "Целта на това изследване е да провери зависимостите в навика на клиентите за начин на плащане\n",
    "\n",
    "Допускаме, че по-младите клиенти използват по-съвременния начин на плащане с карта.\n",
    "\n",
    "Допускаме, че по-скорошните месеци се е вдигнал процента на използващите карта, спрамо използващите кеш"
   ]
  },
  {
   "cell_type": "code",
   "execution_count": 2,
   "id": "78aa8b0d",
   "metadata": {},
   "outputs": [],
   "source": [
    "shopping = pd.read_csv(\"./data/customer_shopping_data.csv\")\n",
    "shopping_mall = pd.read_csv(\"./data/shopping_mall.csv\")"
   ]
  },
  {
   "cell_type": "code",
   "execution_count": 3,
   "id": "a258f0d9",
   "metadata": {
    "scrolled": true
   },
   "outputs": [
    {
     "data": {
      "text/html": [
       "<div>\n",
       "<style scoped>\n",
       "    .dataframe tbody tr th:only-of-type {\n",
       "        vertical-align: middle;\n",
       "    }\n",
       "\n",
       "    .dataframe tbody tr th {\n",
       "        vertical-align: top;\n",
       "    }\n",
       "\n",
       "    .dataframe thead th {\n",
       "        text-align: right;\n",
       "    }\n",
       "</style>\n",
       "<table border=\"1\" class=\"dataframe\">\n",
       "  <thead>\n",
       "    <tr style=\"text-align: right;\">\n",
       "      <th></th>\n",
       "      <th>invoice no</th>\n",
       "      <th>customer id</th>\n",
       "      <th>gender</th>\n",
       "      <th>age</th>\n",
       "      <th>category</th>\n",
       "      <th>quantity</th>\n",
       "      <th>price</th>\n",
       "      <th>payment method</th>\n",
       "      <th>invoice date</th>\n",
       "      <th>shopping mall id</th>\n",
       "    </tr>\n",
       "  </thead>\n",
       "  <tbody>\n",
       "    <tr>\n",
       "      <th>0</th>\n",
       "      <td>I138884</td>\n",
       "      <td>C241288</td>\n",
       "      <td>Female</td>\n",
       "      <td>28</td>\n",
       "      <td>Clothing</td>\n",
       "      <td>5</td>\n",
       "      <td>1500.40</td>\n",
       "      <td>Credit Card</td>\n",
       "      <td>05/08/2022</td>\n",
       "      <td>1</td>\n",
       "    </tr>\n",
       "    <tr>\n",
       "      <th>1</th>\n",
       "      <td>I317333</td>\n",
       "      <td>C111565</td>\n",
       "      <td>Male</td>\n",
       "      <td>21</td>\n",
       "      <td>Shoes</td>\n",
       "      <td>3</td>\n",
       "      <td>1800.51</td>\n",
       "      <td>Debit Card</td>\n",
       "      <td>12/12/2021</td>\n",
       "      <td>2</td>\n",
       "    </tr>\n",
       "    <tr>\n",
       "      <th>2</th>\n",
       "      <td>I127801</td>\n",
       "      <td>C266599</td>\n",
       "      <td>Male</td>\n",
       "      <td>20</td>\n",
       "      <td>Clothing</td>\n",
       "      <td>1</td>\n",
       "      <td>300.08</td>\n",
       "      <td>Cash</td>\n",
       "      <td>09/11/2021</td>\n",
       "      <td>3</td>\n",
       "    </tr>\n",
       "    <tr>\n",
       "      <th>3</th>\n",
       "      <td>I173702</td>\n",
       "      <td>C988172</td>\n",
       "      <td>Female</td>\n",
       "      <td>66</td>\n",
       "      <td>Shoes</td>\n",
       "      <td>5</td>\n",
       "      <td>3000.85</td>\n",
       "      <td>Credit Card</td>\n",
       "      <td>16/05/2021</td>\n",
       "      <td>4</td>\n",
       "    </tr>\n",
       "    <tr>\n",
       "      <th>4</th>\n",
       "      <td>I337046</td>\n",
       "      <td>C189076</td>\n",
       "      <td>Female</td>\n",
       "      <td>53</td>\n",
       "      <td>Books</td>\n",
       "      <td>4</td>\n",
       "      <td>60.60</td>\n",
       "      <td>Cash</td>\n",
       "      <td>24/10/2021</td>\n",
       "      <td>1</td>\n",
       "    </tr>\n",
       "  </tbody>\n",
       "</table>\n",
       "</div>"
      ],
      "text/plain": [
       "  invoice no customer id  gender  age  category  quantity    price  \\\n",
       "0    I138884     C241288  Female   28  Clothing         5  1500.40   \n",
       "1    I317333     C111565    Male   21     Shoes         3  1800.51   \n",
       "2    I127801     C266599    Male   20  Clothing         1   300.08   \n",
       "3    I173702     C988172  Female   66     Shoes         5  3000.85   \n",
       "4    I337046     C189076  Female   53     Books         4    60.60   \n",
       "\n",
       "  payment method invoice date  shopping mall id  \n",
       "0    Credit Card   05/08/2022                 1  \n",
       "1     Debit Card   12/12/2021                 2  \n",
       "2           Cash   09/11/2021                 3  \n",
       "3    Credit Card   16/05/2021                 4  \n",
       "4           Cash   24/10/2021                 1  "
      ]
     },
     "execution_count": 3,
     "metadata": {},
     "output_type": "execute_result"
    }
   ],
   "source": [
    "shopping.head()"
   ]
  },
  {
   "cell_type": "code",
   "execution_count": 4,
   "id": "b3601782",
   "metadata": {},
   "outputs": [
    {
     "data": {
      "text/html": [
       "<div>\n",
       "<style scoped>\n",
       "    .dataframe tbody tr th:only-of-type {\n",
       "        vertical-align: middle;\n",
       "    }\n",
       "\n",
       "    .dataframe tbody tr th {\n",
       "        vertical-align: top;\n",
       "    }\n",
       "\n",
       "    .dataframe thead th {\n",
       "        text-align: right;\n",
       "    }\n",
       "</style>\n",
       "<table border=\"1\" class=\"dataframe\">\n",
       "  <thead>\n",
       "    <tr style=\"text-align: right;\">\n",
       "      <th></th>\n",
       "      <th>shopping mall id</th>\n",
       "      <th>shopping mall</th>\n",
       "    </tr>\n",
       "  </thead>\n",
       "  <tbody>\n",
       "    <tr>\n",
       "      <th>0</th>\n",
       "      <td>1</td>\n",
       "      <td>Kanyon</td>\n",
       "    </tr>\n",
       "    <tr>\n",
       "      <th>1</th>\n",
       "      <td>2</td>\n",
       "      <td>Forum Istanbul</td>\n",
       "    </tr>\n",
       "    <tr>\n",
       "      <th>2</th>\n",
       "      <td>3</td>\n",
       "      <td>Metrocity</td>\n",
       "    </tr>\n",
       "    <tr>\n",
       "      <th>3</th>\n",
       "      <td>4</td>\n",
       "      <td>Metropol AVM</td>\n",
       "    </tr>\n",
       "    <tr>\n",
       "      <th>4</th>\n",
       "      <td>5</td>\n",
       "      <td>Istinye Park</td>\n",
       "    </tr>\n",
       "  </tbody>\n",
       "</table>\n",
       "</div>"
      ],
      "text/plain": [
       "   shopping mall id   shopping mall\n",
       "0                 1          Kanyon\n",
       "1                 2  Forum Istanbul\n",
       "2                 3       Metrocity\n",
       "3                 4    Metropol AVM\n",
       "4                 5    Istinye Park"
      ]
     },
     "execution_count": 4,
     "metadata": {},
     "output_type": "execute_result"
    }
   ],
   "source": [
    "shopping_mall.head()"
   ]
  },
  {
   "cell_type": "markdown",
   "id": "0aeb03d1",
   "metadata": {},
   "source": [
    "# Dataset preparation\n",
    "We need to replace space in columns names with underscore. След като са заменени виждаме резултата."
   ]
  },
  {
   "cell_type": "code",
   "execution_count": 5,
   "id": "7a5bde1d",
   "metadata": {},
   "outputs": [
    {
     "name": "stdout",
     "output_type": "stream",
     "text": [
      "shopping columns      :  invoice_no, customer_id, gender, age, category, quantity, price, payment_method, invoice_date, shopping_mall_id\n",
      "shopping_mall columns :  shopping_mall_id, shopping_mall\n"
     ]
    }
   ],
   "source": [
    "shopping.columns = shopping.columns.str.replace(\" \", \"_\")\n",
    "shopping_mall.columns = shopping_mall.columns.str.replace(\" \", \"_\")\n",
    "print('shopping columns      : ',', '.join(shopping.columns.tolist()))\n",
    "print('shopping_mall columns : ',', '.join(shopping_mall.columns.tolist()))"
   ]
  },
  {
   "cell_type": "markdown",
   "id": "dc0f16ef",
   "metadata": {},
   "source": [
    "Следваща стъпка е мърджването на двата дейтасета, така че в shopping да получим името на shopping_mall по неговото ID. В Meta Data е указано, че shopping_mall_id е колоната, която използваме за ключ."
   ]
  },
  {
   "cell_type": "code",
   "execution_count": 6,
   "id": "e07edf25",
   "metadata": {
    "scrolled": false
   },
   "outputs": [
    {
     "data": {
      "text/html": [
       "<div>\n",
       "<style scoped>\n",
       "    .dataframe tbody tr th:only-of-type {\n",
       "        vertical-align: middle;\n",
       "    }\n",
       "\n",
       "    .dataframe tbody tr th {\n",
       "        vertical-align: top;\n",
       "    }\n",
       "\n",
       "    .dataframe thead th {\n",
       "        text-align: right;\n",
       "    }\n",
       "</style>\n",
       "<table border=\"1\" class=\"dataframe\">\n",
       "  <thead>\n",
       "    <tr style=\"text-align: right;\">\n",
       "      <th></th>\n",
       "      <th>invoice_no</th>\n",
       "      <th>customer_id</th>\n",
       "      <th>gender</th>\n",
       "      <th>age</th>\n",
       "      <th>category</th>\n",
       "      <th>quantity</th>\n",
       "      <th>price</th>\n",
       "      <th>payment_method</th>\n",
       "      <th>invoice_date</th>\n",
       "      <th>shopping_mall_id</th>\n",
       "      <th>shopping_mall</th>\n",
       "    </tr>\n",
       "  </thead>\n",
       "  <tbody>\n",
       "    <tr>\n",
       "      <th>0</th>\n",
       "      <td>I138884</td>\n",
       "      <td>C241288</td>\n",
       "      <td>Female</td>\n",
       "      <td>28</td>\n",
       "      <td>Clothing</td>\n",
       "      <td>5</td>\n",
       "      <td>1500.40</td>\n",
       "      <td>Credit Card</td>\n",
       "      <td>05/08/2022</td>\n",
       "      <td>1</td>\n",
       "      <td>Kanyon</td>\n",
       "    </tr>\n",
       "    <tr>\n",
       "      <th>1</th>\n",
       "      <td>I337046</td>\n",
       "      <td>C189076</td>\n",
       "      <td>Female</td>\n",
       "      <td>53</td>\n",
       "      <td>Books</td>\n",
       "      <td>4</td>\n",
       "      <td>60.60</td>\n",
       "      <td>Cash</td>\n",
       "      <td>24/10/2021</td>\n",
       "      <td>1</td>\n",
       "      <td>Kanyon</td>\n",
       "    </tr>\n",
       "    <tr>\n",
       "      <th>2</th>\n",
       "      <td>I326945</td>\n",
       "      <td>C283361</td>\n",
       "      <td>Female</td>\n",
       "      <td>60</td>\n",
       "      <td>Clothing</td>\n",
       "      <td>2</td>\n",
       "      <td>600.16</td>\n",
       "      <td>Credit Card</td>\n",
       "      <td>22/08/2021</td>\n",
       "      <td>1</td>\n",
       "      <td>Kanyon</td>\n",
       "    </tr>\n",
       "    <tr>\n",
       "      <th>3</th>\n",
       "      <td>I336189</td>\n",
       "      <td>C555402</td>\n",
       "      <td>Female</td>\n",
       "      <td>67</td>\n",
       "      <td>Clothing</td>\n",
       "      <td>2</td>\n",
       "      <td>600.16</td>\n",
       "      <td>Credit Card</td>\n",
       "      <td>03/06/2022</td>\n",
       "      <td>1</td>\n",
       "      <td>Kanyon</td>\n",
       "    </tr>\n",
       "    <tr>\n",
       "      <th>4</th>\n",
       "      <td>I252275</td>\n",
       "      <td>C313348</td>\n",
       "      <td>Male</td>\n",
       "      <td>44</td>\n",
       "      <td>Technology</td>\n",
       "      <td>5</td>\n",
       "      <td>5250.00</td>\n",
       "      <td>Cash</td>\n",
       "      <td>26/10/2021</td>\n",
       "      <td>1</td>\n",
       "      <td>Kanyon</td>\n",
       "    </tr>\n",
       "  </tbody>\n",
       "</table>\n",
       "</div>"
      ],
      "text/plain": [
       "  invoice_no customer_id  gender  age    category  quantity    price  \\\n",
       "0    I138884     C241288  Female   28    Clothing         5  1500.40   \n",
       "1    I337046     C189076  Female   53       Books         4    60.60   \n",
       "2    I326945     C283361  Female   60    Clothing         2   600.16   \n",
       "3    I336189     C555402  Female   67    Clothing         2   600.16   \n",
       "4    I252275     C313348    Male   44  Technology         5  5250.00   \n",
       "\n",
       "  payment_method invoice_date  shopping_mall_id shopping_mall  \n",
       "0    Credit Card   05/08/2022                 1        Kanyon  \n",
       "1           Cash   24/10/2021                 1        Kanyon  \n",
       "2    Credit Card   22/08/2021                 1        Kanyon  \n",
       "3    Credit Card   03/06/2022                 1        Kanyon  \n",
       "4           Cash   26/10/2021                 1        Kanyon  "
      ]
     },
     "execution_count": 6,
     "metadata": {},
     "output_type": "execute_result"
    }
   ],
   "source": [
    "shopping = pd.merge(shopping, shopping_mall, on=\"shopping_mall_id\")\n",
    "shopping.head()"
   ]
  },
  {
   "cell_type": "markdown",
   "id": "3b6b1372",
   "metadata": {},
   "source": [
    "Проверяваме пълнотата и качеството на данните."
   ]
  },
  {
   "cell_type": "code",
   "execution_count": 7,
   "id": "39f3d52d",
   "metadata": {},
   "outputs": [
    {
     "name": "stdout",
     "output_type": "stream",
     "text": [
      "<class 'pandas.core.frame.DataFrame'>\n",
      "Int64Index: 99457 entries, 0 to 99456\n",
      "Data columns (total 11 columns):\n",
      " #   Column            Non-Null Count  Dtype  \n",
      "---  ------            --------------  -----  \n",
      " 0   invoice_no        99457 non-null  object \n",
      " 1   customer_id       99457 non-null  object \n",
      " 2   gender            99457 non-null  object \n",
      " 3   age               99457 non-null  int64  \n",
      " 4   category          99457 non-null  object \n",
      " 5   quantity          99457 non-null  int64  \n",
      " 6   price             99457 non-null  float64\n",
      " 7   payment_method    99457 non-null  object \n",
      " 8   invoice_date      99457 non-null  object \n",
      " 9   shopping_mall_id  99457 non-null  int64  \n",
      " 10  shopping_mall     99457 non-null  object \n",
      "dtypes: float64(1), int64(3), object(7)\n",
      "memory usage: 9.1+ MB\n"
     ]
    }
   ],
   "source": [
    "shopping.info()\n",
    "# shopping.isnull().sum()                              # % missing data\n",
    "# (shopping.isnull().sum() / shopping.shape[0]) * 100  # % missing data\n",
    "# shopping.describe()"
   ]
  },
  {
   "cell_type": "markdown",
   "id": "9caeee90",
   "metadata": {},
   "source": [
    "Виждаме, че няма липсващо съдържание, за това не се налага да заместваме липсващи стойности или да трием редове.\n",
    "Само колона invoice_date, кято съдържа дата е разпозната като object, за това се налага да я коригираме."
   ]
  },
  {
   "cell_type": "code",
   "execution_count": 8,
   "id": "9675a995",
   "metadata": {},
   "outputs": [
    {
     "data": {
      "text/plain": [
       "dtype('<M8[ns]')"
      ]
     },
     "execution_count": 8,
     "metadata": {},
     "output_type": "execute_result"
    }
   ],
   "source": [
    "# invoice_date date type\n",
    "shopping['invoice_date'] = pd.to_datetime(shopping['invoice_date'], format='%d/%m/%Y')\n",
    "shopping[\"invoice_date\"].dtype"
   ]
  },
  {
   "cell_type": "markdown",
   "id": "03017d3a",
   "metadata": {},
   "source": [
    "Премахваме всички колони, които не са са ни необходими."
   ]
  },
  {
   "cell_type": "code",
   "execution_count": 9,
   "id": "c125c3a9",
   "metadata": {
    "scrolled": true
   },
   "outputs": [
    {
     "data": {
      "text/html": [
       "<div>\n",
       "<style scoped>\n",
       "    .dataframe tbody tr th:only-of-type {\n",
       "        vertical-align: middle;\n",
       "    }\n",
       "\n",
       "    .dataframe tbody tr th {\n",
       "        vertical-align: top;\n",
       "    }\n",
       "\n",
       "    .dataframe thead th {\n",
       "        text-align: right;\n",
       "    }\n",
       "</style>\n",
       "<table border=\"1\" class=\"dataframe\">\n",
       "  <thead>\n",
       "    <tr style=\"text-align: right;\">\n",
       "      <th></th>\n",
       "      <th>gender</th>\n",
       "      <th>age</th>\n",
       "      <th>category</th>\n",
       "      <th>price</th>\n",
       "      <th>payment_method</th>\n",
       "      <th>invoice_date</th>\n",
       "      <th>shopping_mall</th>\n",
       "    </tr>\n",
       "  </thead>\n",
       "  <tbody>\n",
       "    <tr>\n",
       "      <th>0</th>\n",
       "      <td>Female</td>\n",
       "      <td>28</td>\n",
       "      <td>Clothing</td>\n",
       "      <td>1500.40</td>\n",
       "      <td>Credit Card</td>\n",
       "      <td>2022-08-05</td>\n",
       "      <td>Kanyon</td>\n",
       "    </tr>\n",
       "    <tr>\n",
       "      <th>1</th>\n",
       "      <td>Female</td>\n",
       "      <td>53</td>\n",
       "      <td>Books</td>\n",
       "      <td>60.60</td>\n",
       "      <td>Cash</td>\n",
       "      <td>2021-10-24</td>\n",
       "      <td>Kanyon</td>\n",
       "    </tr>\n",
       "    <tr>\n",
       "      <th>2</th>\n",
       "      <td>Female</td>\n",
       "      <td>60</td>\n",
       "      <td>Clothing</td>\n",
       "      <td>600.16</td>\n",
       "      <td>Credit Card</td>\n",
       "      <td>2021-08-22</td>\n",
       "      <td>Kanyon</td>\n",
       "    </tr>\n",
       "    <tr>\n",
       "      <th>3</th>\n",
       "      <td>Female</td>\n",
       "      <td>67</td>\n",
       "      <td>Clothing</td>\n",
       "      <td>600.16</td>\n",
       "      <td>Credit Card</td>\n",
       "      <td>2022-06-03</td>\n",
       "      <td>Kanyon</td>\n",
       "    </tr>\n",
       "    <tr>\n",
       "      <th>4</th>\n",
       "      <td>Male</td>\n",
       "      <td>44</td>\n",
       "      <td>Technology</td>\n",
       "      <td>5250.00</td>\n",
       "      <td>Cash</td>\n",
       "      <td>2021-10-26</td>\n",
       "      <td>Kanyon</td>\n",
       "    </tr>\n",
       "  </tbody>\n",
       "</table>\n",
       "</div>"
      ],
      "text/plain": [
       "   gender  age    category    price payment_method invoice_date shopping_mall\n",
       "0  Female   28    Clothing  1500.40    Credit Card   2022-08-05        Kanyon\n",
       "1  Female   53       Books    60.60           Cash   2021-10-24        Kanyon\n",
       "2  Female   60    Clothing   600.16    Credit Card   2021-08-22        Kanyon\n",
       "3  Female   67    Clothing   600.16    Credit Card   2022-06-03        Kanyon\n",
       "4    Male   44  Technology  5250.00           Cash   2021-10-26        Kanyon"
      ]
     },
     "execution_count": 9,
     "metadata": {},
     "output_type": "execute_result"
    }
   ],
   "source": [
    "shopping.drop([\"invoice_no\", \"customer_id\", \"quantity\", \"shopping_mall_id\"], axis=1, inplace=True)\n",
    "shopping.head()"
   ]
  },
  {
   "cell_type": "markdown",
   "id": "ae24bfc7",
   "metadata": {},
   "source": [
    "Колоната quantity изглежда показва количеството на продукти в поръчката, за които цената е сумарна, а не за бройки от определен продукт, следователно и тя спада към излишните за нас колони.\n",
    "\n",
    "За да можем да разгледаме данните по възраст ще групираме по възрастови групи."
   ]
  },
  {
   "cell_type": "code",
   "execution_count": 10,
   "id": "f53a8135",
   "metadata": {},
   "outputs": [
    {
     "name": "stdout",
     "output_type": "stream",
     "text": [
      "Брой на уникалните възрасти: 52\n",
      "Минималната възраст е 18, а максималната 69\n"
     ]
    }
   ],
   "source": [
    "max_age = shopping[\"age\"].max()\n",
    "min_age = shopping[\"age\"].min()\n",
    "unique_ages = shopping[\"age\"].unique()\n",
    "print(\"Брой на уникалните възрасти:\", len(unique_ages))\n",
    "print(f\"Минималната възраст е {min_age}, а максималната {max_age}\")"
   ]
  },
  {
   "cell_type": "code",
   "execution_count": 11,
   "id": "61fdb48e",
   "metadata": {},
   "outputs": [
    {
     "data": {
      "text/plain": [
       "True"
      ]
     },
     "execution_count": 11,
     "metadata": {},
     "output_type": "execute_result"
    }
   ],
   "source": [
    "max_age - min_age + 1 == len(unique_ages)"
   ]
  },
  {
   "cell_type": "markdown",
   "id": "3efc8808",
   "metadata": {},
   "source": [
    "Виждаме, че има представители на всички възрасти в диапазона 18 - 69, чийто брой е 52, за това ще разделим нашите данни на 4 равни възрастови групи от по 13 възрасти по следния начн:\n",
    "\n",
    "| Group  |    |    |    |    |    |    |    |    |    |    |    |    |    |\n",
    "|--------|----|----|----|----|----|----|----|----|----|----|----|----|----|\n",
    "| 18-30  | 18 | 19 | 20 | 21 | 22 | 23 | 24 | 25 | 26 | 27 | 28 | 29 | 30 |\n",
    "|  31-43 | 31 | 32 | 33 | 34 | 35 | 36 | 37 | 38 | 39 | 40 | 41 | 42 | 43 |\n",
    "|  44-56 | 44 | 45 | 46 | 47 | 48 | 49 | 50 | 51 | 52 | 53 | 54 | 55 | 56 |\n",
    "|  57-69 | 57 | 58 | 59 | 60 | 61 | 62 | 63 | 64 | 65 | 66 | 67 | 68 | 69 |"
   ]
  },
  {
   "cell_type": "code",
   "execution_count": 12,
   "id": "d7023fec",
   "metadata": {
    "scrolled": true
   },
   "outputs": [
    {
     "data": {
      "text/html": [
       "<div>\n",
       "<style scoped>\n",
       "    .dataframe tbody tr th:only-of-type {\n",
       "        vertical-align: middle;\n",
       "    }\n",
       "\n",
       "    .dataframe tbody tr th {\n",
       "        vertical-align: top;\n",
       "    }\n",
       "\n",
       "    .dataframe thead th {\n",
       "        text-align: right;\n",
       "    }\n",
       "</style>\n",
       "<table border=\"1\" class=\"dataframe\">\n",
       "  <thead>\n",
       "    <tr style=\"text-align: right;\">\n",
       "      <th></th>\n",
       "      <th>gender</th>\n",
       "      <th>age</th>\n",
       "      <th>category</th>\n",
       "      <th>price</th>\n",
       "      <th>payment_method</th>\n",
       "      <th>invoice_date</th>\n",
       "      <th>shopping_mall</th>\n",
       "      <th>age_group</th>\n",
       "    </tr>\n",
       "  </thead>\n",
       "  <tbody>\n",
       "    <tr>\n",
       "      <th>0</th>\n",
       "      <td>Female</td>\n",
       "      <td>28</td>\n",
       "      <td>Clothing</td>\n",
       "      <td>1500.40</td>\n",
       "      <td>Credit Card</td>\n",
       "      <td>2022-08-05</td>\n",
       "      <td>Kanyon</td>\n",
       "      <td>18-30</td>\n",
       "    </tr>\n",
       "    <tr>\n",
       "      <th>1</th>\n",
       "      <td>Female</td>\n",
       "      <td>53</td>\n",
       "      <td>Books</td>\n",
       "      <td>60.60</td>\n",
       "      <td>Cash</td>\n",
       "      <td>2021-10-24</td>\n",
       "      <td>Kanyon</td>\n",
       "      <td>44-56</td>\n",
       "    </tr>\n",
       "    <tr>\n",
       "      <th>2</th>\n",
       "      <td>Female</td>\n",
       "      <td>60</td>\n",
       "      <td>Clothing</td>\n",
       "      <td>600.16</td>\n",
       "      <td>Credit Card</td>\n",
       "      <td>2021-08-22</td>\n",
       "      <td>Kanyon</td>\n",
       "      <td>57-69</td>\n",
       "    </tr>\n",
       "    <tr>\n",
       "      <th>3</th>\n",
       "      <td>Female</td>\n",
       "      <td>67</td>\n",
       "      <td>Clothing</td>\n",
       "      <td>600.16</td>\n",
       "      <td>Credit Card</td>\n",
       "      <td>2022-06-03</td>\n",
       "      <td>Kanyon</td>\n",
       "      <td>57-69</td>\n",
       "    </tr>\n",
       "    <tr>\n",
       "      <th>4</th>\n",
       "      <td>Male</td>\n",
       "      <td>44</td>\n",
       "      <td>Technology</td>\n",
       "      <td>5250.00</td>\n",
       "      <td>Cash</td>\n",
       "      <td>2021-10-26</td>\n",
       "      <td>Kanyon</td>\n",
       "      <td>44-56</td>\n",
       "    </tr>\n",
       "  </tbody>\n",
       "</table>\n",
       "</div>"
      ],
      "text/plain": [
       "   gender  age    category    price payment_method invoice_date shopping_mall  \\\n",
       "0  Female   28    Clothing  1500.40    Credit Card   2022-08-05        Kanyon   \n",
       "1  Female   53       Books    60.60           Cash   2021-10-24        Kanyon   \n",
       "2  Female   60    Clothing   600.16    Credit Card   2021-08-22        Kanyon   \n",
       "3  Female   67    Clothing   600.16    Credit Card   2022-06-03        Kanyon   \n",
       "4    Male   44  Technology  5250.00           Cash   2021-10-26        Kanyon   \n",
       "\n",
       "  age_group  \n",
       "0     18-30  \n",
       "1     44-56  \n",
       "2     57-69  \n",
       "3     57-69  \n",
       "4     44-56  "
      ]
     },
     "execution_count": 12,
     "metadata": {},
     "output_type": "execute_result"
    }
   ],
   "source": [
    "age_groups = [\"18-30\", \"31-43\", \"44-56\", \"57-69\"]\n",
    "\n",
    "age_groups_pd = pd.cut(\n",
    "  shopping[\"age\"],\n",
    "  bins=[0, 30, 43, 56, np.inf],\n",
    "  labels=age_groups,\n",
    ")\n",
    "\n",
    "shopping[\"age_group\"] = age_groups_pd\n",
    "shopping.head()"
   ]
  },
  {
   "cell_type": "markdown",
   "id": "71cbdafc",
   "metadata": {},
   "source": [
    "Извършваме проверка за коректно групиране"
   ]
  },
  {
   "cell_type": "code",
   "execution_count": 13,
   "id": "884e5b05",
   "metadata": {},
   "outputs": [
    {
     "data": {
      "text/html": [
       "<div>\n",
       "<style scoped>\n",
       "    .dataframe tbody tr th:only-of-type {\n",
       "        vertical-align: middle;\n",
       "    }\n",
       "\n",
       "    .dataframe tbody tr th {\n",
       "        vertical-align: top;\n",
       "    }\n",
       "\n",
       "    .dataframe thead th {\n",
       "        text-align: right;\n",
       "    }\n",
       "</style>\n",
       "<table border=\"1\" class=\"dataframe\">\n",
       "  <thead>\n",
       "    <tr style=\"text-align: right;\">\n",
       "      <th></th>\n",
       "      <th>age_group</th>\n",
       "      <th>age</th>\n",
       "    </tr>\n",
       "  </thead>\n",
       "  <tbody>\n",
       "    <tr>\n",
       "      <th>0</th>\n",
       "      <td>18-30</td>\n",
       "      <td>[18, 19, 20, 21, 22, 23, 24, 25, 26, 27, 28, 2...</td>\n",
       "    </tr>\n",
       "    <tr>\n",
       "      <th>1</th>\n",
       "      <td>31-43</td>\n",
       "      <td>[31, 32, 33, 34, 35, 36, 37, 38, 39, 40, 41, 4...</td>\n",
       "    </tr>\n",
       "    <tr>\n",
       "      <th>2</th>\n",
       "      <td>44-56</td>\n",
       "      <td>[44, 45, 46, 47, 48, 49, 50, 51, 52, 53, 54, 5...</td>\n",
       "    </tr>\n",
       "    <tr>\n",
       "      <th>3</th>\n",
       "      <td>57-69</td>\n",
       "      <td>[57, 58, 59, 60, 61, 62, 63, 64, 65, 66, 67, 6...</td>\n",
       "    </tr>\n",
       "  </tbody>\n",
       "</table>\n",
       "</div>"
      ],
      "text/plain": [
       "  age_group                                                age\n",
       "0     18-30  [18, 19, 20, 21, 22, 23, 24, 25, 26, 27, 28, 2...\n",
       "1     31-43  [31, 32, 33, 34, 35, 36, 37, 38, 39, 40, 41, 4...\n",
       "2     44-56  [44, 45, 46, 47, 48, 49, 50, 51, 52, 53, 54, 5...\n",
       "3     57-69  [57, 58, 59, 60, 61, 62, 63, 64, 65, 66, 67, 6..."
      ]
     },
     "execution_count": 13,
     "metadata": {},
     "output_type": "execute_result"
    }
   ],
   "source": [
    "age_group_ages = shopping.groupby('age_group')['age'].unique()\n",
    "age_group_ages_sorted = age_group_ages.apply(sorted)\n",
    "age_group_table = pd.DataFrame(age_group_ages_sorted).reset_index()\n",
    "\n",
    "age_group_table"
   ]
  },
  {
   "cell_type": "markdown",
   "id": "3264799f",
   "metadata": {},
   "source": [
    "Разглеждаме разпределението на всички възрасти на клиентите."
   ]
  },
  {
   "cell_type": "code",
   "execution_count": 14,
   "id": "7ef27371",
   "metadata": {
    "scrolled": false
   },
   "outputs": [
    {
     "data": {
      "image/png": "[encoded data removed]",
      "text/plain": [
       "<Figure size 640x480 with 1 Axes>"
      ]
     },
     "metadata": {},
     "output_type": "display_data"
    }
   ],
   "source": [
    "plt.hist(shopping[\"age\"], bins=len(unique_ages))\n",
    "plt.xlabel(\"Възраст\")\n",
    "plt.show()"
   ]
  },
  {
   "cell_type": "markdown",
   "id": "acfb2c19",
   "metadata": {},
   "source": [
    "Виждаме, че клиентите на въпросните молове са от всякакви възрасти и не преобладава само една възрастова група."
   ]
  },
  {
   "cell_type": "code",
   "execution_count": 15,
   "id": "8e443e32",
   "metadata": {},
   "outputs": [
    {
     "data": {
      "image/png": "[encoded data removed]",
      "text/plain": [
       "<Figure size 600x600 with 3 Axes>"
      ]
     },
     "metadata": {},
     "output_type": "display_data"
    }
   ],
   "source": [
    "sns.jointplot(data=shopping, x=\"age\", y=\"price\");\n",
    "# sns.displot(data=shopping, x=\"age\");"
   ]
  },
  {
   "cell_type": "markdown",
   "id": "0dc71248",
   "metadata": {
    "scrolled": true
   },
   "source": [
    "Добавяме нова колона month_year, в която взимаме само месеца и годината от invoice_date, за да можем да разгледаме резултатите на месечна база."
   ]
  },
  {
   "cell_type": "code",
   "execution_count": 16,
   "id": "691623ab",
   "metadata": {},
   "outputs": [
    {
     "data": {
      "text/html": [
       "<div>\n",
       "<style scoped>\n",
       "    .dataframe tbody tr th:only-of-type {\n",
       "        vertical-align: middle;\n",
       "    }\n",
       "\n",
       "    .dataframe tbody tr th {\n",
       "        vertical-align: top;\n",
       "    }\n",
       "\n",
       "    .dataframe thead th {\n",
       "        text-align: right;\n",
       "    }\n",
       "</style>\n",
       "<table border=\"1\" class=\"dataframe\">\n",
       "  <thead>\n",
       "    <tr style=\"text-align: right;\">\n",
       "      <th></th>\n",
       "      <th>gender</th>\n",
       "      <th>age</th>\n",
       "      <th>category</th>\n",
       "      <th>price</th>\n",
       "      <th>payment_method</th>\n",
       "      <th>invoice_date</th>\n",
       "      <th>shopping_mall</th>\n",
       "      <th>age_group</th>\n",
       "      <th>month_year</th>\n",
       "    </tr>\n",
       "  </thead>\n",
       "  <tbody>\n",
       "    <tr>\n",
       "      <th>0</th>\n",
       "      <td>Female</td>\n",
       "      <td>28</td>\n",
       "      <td>Clothing</td>\n",
       "      <td>1500.40</td>\n",
       "      <td>Credit Card</td>\n",
       "      <td>2022-08-05</td>\n",
       "      <td>Kanyon</td>\n",
       "      <td>18-30</td>\n",
       "      <td>2022-08</td>\n",
       "    </tr>\n",
       "    <tr>\n",
       "      <th>1</th>\n",
       "      <td>Female</td>\n",
       "      <td>53</td>\n",
       "      <td>Books</td>\n",
       "      <td>60.60</td>\n",
       "      <td>Cash</td>\n",
       "      <td>2021-10-24</td>\n",
       "      <td>Kanyon</td>\n",
       "      <td>44-56</td>\n",
       "      <td>2021-10</td>\n",
       "    </tr>\n",
       "    <tr>\n",
       "      <th>2</th>\n",
       "      <td>Female</td>\n",
       "      <td>60</td>\n",
       "      <td>Clothing</td>\n",
       "      <td>600.16</td>\n",
       "      <td>Credit Card</td>\n",
       "      <td>2021-08-22</td>\n",
       "      <td>Kanyon</td>\n",
       "      <td>57-69</td>\n",
       "      <td>2021-08</td>\n",
       "    </tr>\n",
       "    <tr>\n",
       "      <th>3</th>\n",
       "      <td>Female</td>\n",
       "      <td>67</td>\n",
       "      <td>Clothing</td>\n",
       "      <td>600.16</td>\n",
       "      <td>Credit Card</td>\n",
       "      <td>2022-06-03</td>\n",
       "      <td>Kanyon</td>\n",
       "      <td>57-69</td>\n",
       "      <td>2022-06</td>\n",
       "    </tr>\n",
       "    <tr>\n",
       "      <th>4</th>\n",
       "      <td>Male</td>\n",
       "      <td>44</td>\n",
       "      <td>Technology</td>\n",
       "      <td>5250.00</td>\n",
       "      <td>Cash</td>\n",
       "      <td>2021-10-26</td>\n",
       "      <td>Kanyon</td>\n",
       "      <td>44-56</td>\n",
       "      <td>2021-10</td>\n",
       "    </tr>\n",
       "  </tbody>\n",
       "</table>\n",
       "</div>"
      ],
      "text/plain": [
       "   gender  age    category    price payment_method invoice_date shopping_mall  \\\n",
       "0  Female   28    Clothing  1500.40    Credit Card   2022-08-05        Kanyon   \n",
       "1  Female   53       Books    60.60           Cash   2021-10-24        Kanyon   \n",
       "2  Female   60    Clothing   600.16    Credit Card   2021-08-22        Kanyon   \n",
       "3  Female   67    Clothing   600.16    Credit Card   2022-06-03        Kanyon   \n",
       "4    Male   44  Technology  5250.00           Cash   2021-10-26        Kanyon   \n",
       "\n",
       "  age_group month_year  \n",
       "0     18-30    2022-08  \n",
       "1     44-56    2021-10  \n",
       "2     57-69    2021-08  \n",
       "3     57-69    2022-06  \n",
       "4     44-56    2021-10  "
      ]
     },
     "execution_count": 16,
     "metadata": {},
     "output_type": "execute_result"
    }
   ],
   "source": [
    "shopping[\"month_year\"] = shopping[\"invoice_date\"].dt.strftime(\"%Y-%m\")\n",
    "shopping.head()"
   ]
  },
  {
   "cell_type": "markdown",
   "id": "af4b48d3",
   "metadata": {},
   "source": [
    "Разглеждаме наличните платежни методи"
   ]
  },
  {
   "cell_type": "code",
   "execution_count": 17,
   "id": "be185c2d",
   "metadata": {},
   "outputs": [
    {
     "name": "stdout",
     "output_type": "stream",
     "text": [
      "['Credit Card' 'Cash' 'Debit Card']\n"
     ]
    }
   ],
   "source": [
    "unique_payment_methods = shopping['payment_method'].unique()\n",
    "print(unique_payment_methods)"
   ]
  },
  {
   "cell_type": "markdown",
   "id": "427f504e",
   "metadata": {},
   "source": [
    "Тъй като искаме да сравняваме кешово плащане и плащане с карта, а имаме два вида плащане с карта 'Credit Card' и 'Debit Card' ще заменим двата метода само с 'Card', за да можем да ги разглеждаме заедно."
   ]
  },
  {
   "cell_type": "code",
   "execution_count": 18,
   "id": "c1b972a0",
   "metadata": {
    "scrolled": false
   },
   "outputs": [
    {
     "name": "stdout",
     "output_type": "stream",
     "text": [
      "['Card' 'Cash']\n"
     ]
    }
   ],
   "source": [
    "shopping['payment_method'] = shopping['payment_method'].replace(['Credit Card', 'Debit Card'], 'Card')\n",
    "\n",
    "print(shopping['payment_method'].unique())"
   ]
  },
  {
   "cell_type": "code",
   "execution_count": 19,
   "id": "96cebce2",
   "metadata": {
    "scrolled": true
   },
   "outputs": [
    {
     "data": {
      "text/html": [
       "<div>\n",
       "<style scoped>\n",
       "    .dataframe tbody tr th:only-of-type {\n",
       "        vertical-align: middle;\n",
       "    }\n",
       "\n",
       "    .dataframe tbody tr th {\n",
       "        vertical-align: top;\n",
       "    }\n",
       "\n",
       "    .dataframe thead th {\n",
       "        text-align: right;\n",
       "    }\n",
       "</style>\n",
       "<table border=\"1\" class=\"dataframe\">\n",
       "  <thead>\n",
       "    <tr style=\"text-align: right;\">\n",
       "      <th></th>\n",
       "      <th>gender</th>\n",
       "      <th>age</th>\n",
       "      <th>category</th>\n",
       "      <th>price</th>\n",
       "      <th>payment_method</th>\n",
       "      <th>invoice_date</th>\n",
       "      <th>shopping_mall</th>\n",
       "      <th>age_group</th>\n",
       "      <th>month_year</th>\n",
       "    </tr>\n",
       "  </thead>\n",
       "  <tbody>\n",
       "    <tr>\n",
       "      <th>0</th>\n",
       "      <td>Female</td>\n",
       "      <td>28</td>\n",
       "      <td>Clothing</td>\n",
       "      <td>1500.40</td>\n",
       "      <td>Card</td>\n",
       "      <td>2022-08-05</td>\n",
       "      <td>Kanyon</td>\n",
       "      <td>18-30</td>\n",
       "      <td>2022-08</td>\n",
       "    </tr>\n",
       "    <tr>\n",
       "      <th>1</th>\n",
       "      <td>Female</td>\n",
       "      <td>53</td>\n",
       "      <td>Books</td>\n",
       "      <td>60.60</td>\n",
       "      <td>Cash</td>\n",
       "      <td>2021-10-24</td>\n",
       "      <td>Kanyon</td>\n",
       "      <td>44-56</td>\n",
       "      <td>2021-10</td>\n",
       "    </tr>\n",
       "    <tr>\n",
       "      <th>2</th>\n",
       "      <td>Female</td>\n",
       "      <td>60</td>\n",
       "      <td>Clothing</td>\n",
       "      <td>600.16</td>\n",
       "      <td>Card</td>\n",
       "      <td>2021-08-22</td>\n",
       "      <td>Kanyon</td>\n",
       "      <td>57-69</td>\n",
       "      <td>2021-08</td>\n",
       "    </tr>\n",
       "    <tr>\n",
       "      <th>3</th>\n",
       "      <td>Female</td>\n",
       "      <td>67</td>\n",
       "      <td>Clothing</td>\n",
       "      <td>600.16</td>\n",
       "      <td>Card</td>\n",
       "      <td>2022-06-03</td>\n",
       "      <td>Kanyon</td>\n",
       "      <td>57-69</td>\n",
       "      <td>2022-06</td>\n",
       "    </tr>\n",
       "    <tr>\n",
       "      <th>4</th>\n",
       "      <td>Male</td>\n",
       "      <td>44</td>\n",
       "      <td>Technology</td>\n",
       "      <td>5250.00</td>\n",
       "      <td>Cash</td>\n",
       "      <td>2021-10-26</td>\n",
       "      <td>Kanyon</td>\n",
       "      <td>44-56</td>\n",
       "      <td>2021-10</td>\n",
       "    </tr>\n",
       "  </tbody>\n",
       "</table>\n",
       "</div>"
      ],
      "text/plain": [
       "   gender  age    category    price payment_method invoice_date shopping_mall  \\\n",
       "0  Female   28    Clothing  1500.40           Card   2022-08-05        Kanyon   \n",
       "1  Female   53       Books    60.60           Cash   2021-10-24        Kanyon   \n",
       "2  Female   60    Clothing   600.16           Card   2021-08-22        Kanyon   \n",
       "3  Female   67    Clothing   600.16           Card   2022-06-03        Kanyon   \n",
       "4    Male   44  Technology  5250.00           Cash   2021-10-26        Kanyon   \n",
       "\n",
       "  age_group month_year  \n",
       "0     18-30    2022-08  \n",
       "1     44-56    2021-10  \n",
       "2     57-69    2021-08  \n",
       "3     57-69    2022-06  \n",
       "4     44-56    2021-10  "
      ]
     },
     "execution_count": 19,
     "metadata": {},
     "output_type": "execute_result"
    }
   ],
   "source": [
    "shopping.head()"
   ]
  },
  {
   "cell_type": "code",
   "execution_count": 20,
   "id": "b72a6786",
   "metadata": {},
   "outputs": [],
   "source": [
    "def group_and_sum(group_column):\n",
    "    grouped_data = shopping.groupby([group_column, 'payment_method'])['price'].sum().unstack().reset_index()\n",
    "    return grouped_data\n",
    "grouped_data = group_and_sum('shopping_mall')"
   ]
  },
  {
   "cell_type": "code",
   "execution_count": 21,
   "id": "0e0d6d40",
   "metadata": {},
   "outputs": [],
   "source": [
    "def plot_percentage_by_group(group_column, figsize=(10, 4)):\n",
    "    grouped_data.iloc[:, 1:] = grouped_data.iloc[:, 1:].div(grouped_data.iloc[:, 1:].sum(axis=1), axis=0) * 100\n",
    "    plt.figure(figsize=figsize)\n",
    "    for i, column in enumerate(grouped_data.columns[1:]):\n",
    "        if i == 0:\n",
    "            plt.barh(grouped_data[group_column], grouped_data[column], label=column, alpha=0.7)\n",
    "        else:\n",
    "            left = grouped_data.iloc[:, 1:i+1].sum(axis=1)\n",
    "            plt.barh(grouped_data[group_column], grouped_data[column], left=left, label=column, alpha=0.7)\n",
    "    for i, column in enumerate(grouped_data.columns[1:]):\n",
    "        for j, value in enumerate(grouped_data[column]):\n",
    "            plt.text(value / 2 + (grouped_data.iloc[:, 1:i+1].sum(axis=1))[j], j, f'{value:.2f}%', ha='center', va='center')\n",
    "\n",
    "    plt.title('Percentage of Total Price by Payment Method and ' + group_column.replace('_', ' ').title())\n",
    "    plt.xlabel('Percentage of Total Price')\n",
    "    plt.ylabel(group_column.replace('_', ' ').title())\n",
    "    plt.legend(title='Payment Method')\n",
    "    plt.gca().invert_yaxis()\n",
    "    plt.tight_layout()\n",
    "    plt.show()"
   ]
  },
  {
   "cell_type": "code",
   "execution_count": 22,
   "id": "e47e0a74",
   "metadata": {},
   "outputs": [
    {
     "data": {
      "text/html": [
       "<div>\n",
       "<style scoped>\n",
       "    .dataframe tbody tr th:only-of-type {\n",
       "        vertical-align: middle;\n",
       "    }\n",
       "\n",
       "    .dataframe tbody tr th {\n",
       "        vertical-align: top;\n",
       "    }\n",
       "\n",
       "    .dataframe thead th {\n",
       "        text-align: right;\n",
       "    }\n",
       "</style>\n",
       "<table border=\"1\" class=\"dataframe\">\n",
       "  <thead>\n",
       "    <tr style=\"text-align: right;\">\n",
       "      <th>payment_method</th>\n",
       "      <th>age_group</th>\n",
       "      <th>Card</th>\n",
       "      <th>Cash</th>\n",
       "    </tr>\n",
       "  </thead>\n",
       "  <tbody>\n",
       "    <tr>\n",
       "      <th>0</th>\n",
       "      <td>18-30</td>\n",
       "      <td>9501044.48</td>\n",
       "      <td>7703109.31</td>\n",
       "    </tr>\n",
       "    <tr>\n",
       "      <th>1</th>\n",
       "      <td>31-43</td>\n",
       "      <td>9407207.91</td>\n",
       "      <td>7847740.05</td>\n",
       "    </tr>\n",
       "    <tr>\n",
       "      <th>2</th>\n",
       "      <td>44-56</td>\n",
       "      <td>9602514.66</td>\n",
       "      <td>7493534.32</td>\n",
       "    </tr>\n",
       "    <tr>\n",
       "      <th>3</th>\n",
       "      <td>57-69</td>\n",
       "      <td>9335567.88</td>\n",
       "      <td>7660647.30</td>\n",
       "    </tr>\n",
       "  </tbody>\n",
       "</table>\n",
       "</div>"
      ],
      "text/plain": [
       "payment_method age_group        Card        Cash\n",
       "0                  18-30  9501044.48  7703109.31\n",
       "1                  31-43  9407207.91  7847740.05\n",
       "2                  44-56  9602514.66  7493534.32\n",
       "3                  57-69  9335567.88  7660647.30"
      ]
     },
     "execution_count": 22,
     "metadata": {},
     "output_type": "execute_result"
    }
   ],
   "source": [
    "grouped_data = group_and_sum('age_group')\n",
    "grouped_data"
   ]
  },
  {
   "cell_type": "code",
   "execution_count": 23,
   "id": "db147343",
   "metadata": {},
   "outputs": [
    {
     "data": {
      "image/png": "[encoded data removed]",
      "text/plain": [
       "<Figure size 1000x200 with 1 Axes>"
      ]
     },
     "metadata": {},
     "output_type": "display_data"
    }
   ],
   "source": [
    "plot_percentage_by_group('age_group', figsize=(10, 2))"
   ]
  },
  {
   "cell_type": "code",
   "execution_count": 24,
   "id": "37dda54d",
   "metadata": {},
   "outputs": [
    {
     "data": {
      "text/html": [
       "<div>\n",
       "<style scoped>\n",
       "    .dataframe tbody tr th:only-of-type {\n",
       "        vertical-align: middle;\n",
       "    }\n",
       "\n",
       "    .dataframe tbody tr th {\n",
       "        vertical-align: top;\n",
       "    }\n",
       "\n",
       "    .dataframe thead th {\n",
       "        text-align: right;\n",
       "    }\n",
       "</style>\n",
       "<table border=\"1\" class=\"dataframe\">\n",
       "  <thead>\n",
       "    <tr style=\"text-align: right;\">\n",
       "      <th>payment_method</th>\n",
       "      <th>shopping_mall</th>\n",
       "      <th>Card</th>\n",
       "      <th>Cash</th>\n",
       "    </tr>\n",
       "  </thead>\n",
       "  <tbody>\n",
       "    <tr>\n",
       "      <th>0</th>\n",
       "      <td>Cevahir AVM</td>\n",
       "      <td>1914348.46</td>\n",
       "      <td>1519323.38</td>\n",
       "    </tr>\n",
       "    <tr>\n",
       "      <th>1</th>\n",
       "      <td>Emaar Square Mall</td>\n",
       "      <td>1844232.06</td>\n",
       "      <td>1546176.25</td>\n",
       "    </tr>\n",
       "    <tr>\n",
       "      <th>2</th>\n",
       "      <td>Forum Istanbul</td>\n",
       "      <td>1906309.54</td>\n",
       "      <td>1429764.28</td>\n",
       "    </tr>\n",
       "    <tr>\n",
       "      <th>3</th>\n",
       "      <td>Istinye Park</td>\n",
       "      <td>3705068.72</td>\n",
       "      <td>3012008.82</td>\n",
       "    </tr>\n",
       "    <tr>\n",
       "      <th>4</th>\n",
       "      <td>Kanyon</td>\n",
       "      <td>7505533.57</td>\n",
       "      <td>6205221.67</td>\n",
       "    </tr>\n",
       "    <tr>\n",
       "      <th>5</th>\n",
       "      <td>Mall of Istanbul</td>\n",
       "      <td>7609958.06</td>\n",
       "      <td>6241779.56</td>\n",
       "    </tr>\n",
       "    <tr>\n",
       "      <th>6</th>\n",
       "      <td>Metrocity</td>\n",
       "      <td>5697197.68</td>\n",
       "      <td>4552782.39</td>\n",
       "    </tr>\n",
       "    <tr>\n",
       "      <th>7</th>\n",
       "      <td>Metropol AVM</td>\n",
       "      <td>3834673.50</td>\n",
       "      <td>3103319.49</td>\n",
       "    </tr>\n",
       "    <tr>\n",
       "      <th>8</th>\n",
       "      <td>Viaport Outlet</td>\n",
       "      <td>1868547.78</td>\n",
       "      <td>1545471.68</td>\n",
       "    </tr>\n",
       "    <tr>\n",
       "      <th>9</th>\n",
       "      <td>Zorlu Center</td>\n",
       "      <td>1960465.56</td>\n",
       "      <td>1549183.46</td>\n",
       "    </tr>\n",
       "  </tbody>\n",
       "</table>\n",
       "</div>"
      ],
      "text/plain": [
       "payment_method      shopping_mall        Card        Cash\n",
       "0                     Cevahir AVM  1914348.46  1519323.38\n",
       "1               Emaar Square Mall  1844232.06  1546176.25\n",
       "2                  Forum Istanbul  1906309.54  1429764.28\n",
       "3                    Istinye Park  3705068.72  3012008.82\n",
       "4                          Kanyon  7505533.57  6205221.67\n",
       "5                Mall of Istanbul  7609958.06  6241779.56\n",
       "6                       Metrocity  5697197.68  4552782.39\n",
       "7                    Metropol AVM  3834673.50  3103319.49\n",
       "8                  Viaport Outlet  1868547.78  1545471.68\n",
       "9                    Zorlu Center  1960465.56  1549183.46"
      ]
     },
     "execution_count": 24,
     "metadata": {},
     "output_type": "execute_result"
    }
   ],
   "source": [
    "grouped_data = group_and_sum('shopping_mall')\n",
    "grouped_data"
   ]
  },
  {
   "cell_type": "code",
   "execution_count": 25,
   "id": "3c045b01",
   "metadata": {},
   "outputs": [
    {
     "data": {
      "image/png": "[encoded data removed]",
      "text/plain": [
       "<Figure size 1000x400 with 1 Axes>"
      ]
     },
     "metadata": {},
     "output_type": "display_data"
    }
   ],
   "source": [
    "plot_percentage_by_group('shopping_mall', figsize=(10, 4))"
   ]
  },
  {
   "cell_type": "code",
   "execution_count": 26,
   "id": "ded7639e",
   "metadata": {},
   "outputs": [
    {
     "data": {
      "text/html": [
       "<div>\n",
       "<style scoped>\n",
       "    .dataframe tbody tr th:only-of-type {\n",
       "        vertical-align: middle;\n",
       "    }\n",
       "\n",
       "    .dataframe tbody tr th {\n",
       "        vertical-align: top;\n",
       "    }\n",
       "\n",
       "    .dataframe thead th {\n",
       "        text-align: right;\n",
       "    }\n",
       "</style>\n",
       "<table border=\"1\" class=\"dataframe\">\n",
       "  <thead>\n",
       "    <tr style=\"text-align: right;\">\n",
       "      <th>payment_method</th>\n",
       "      <th>gender</th>\n",
       "      <th>Card</th>\n",
       "      <th>Cash</th>\n",
       "    </tr>\n",
       "  </thead>\n",
       "  <tbody>\n",
       "    <tr>\n",
       "      <th>0</th>\n",
       "      <td>Female</td>\n",
       "      <td>22526949.85</td>\n",
       "      <td>18404851.77</td>\n",
       "    </tr>\n",
       "    <tr>\n",
       "      <th>1</th>\n",
       "      <td>Male</td>\n",
       "      <td>15319385.08</td>\n",
       "      <td>12300179.21</td>\n",
       "    </tr>\n",
       "  </tbody>\n",
       "</table>\n",
       "</div>"
      ],
      "text/plain": [
       "payment_method  gender         Card         Cash\n",
       "0               Female  22526949.85  18404851.77\n",
       "1                 Male  15319385.08  12300179.21"
      ]
     },
     "execution_count": 26,
     "metadata": {},
     "output_type": "execute_result"
    }
   ],
   "source": [
    "grouped_data = group_and_sum('gender')\n",
    "grouped_data"
   ]
  },
  {
   "cell_type": "code",
   "execution_count": 27,
   "id": "fbe8ca5a",
   "metadata": {},
   "outputs": [
    {
     "data": {
      "image/png": "[encoded data removed]",
      "text/plain": [
       "<Figure size 1000x170 with 1 Axes>"
      ]
     },
     "metadata": {},
     "output_type": "display_data"
    }
   ],
   "source": [
    "plot_percentage_by_group('gender', figsize=(10, 1.7))"
   ]
  },
  {
   "cell_type": "code",
   "execution_count": 28,
   "id": "c77aef58",
   "metadata": {},
   "outputs": [
    {
     "data": {
      "text/html": [
       "<div>\n",
       "<style scoped>\n",
       "    .dataframe tbody tr th:only-of-type {\n",
       "        vertical-align: middle;\n",
       "    }\n",
       "\n",
       "    .dataframe tbody tr th {\n",
       "        vertical-align: top;\n",
       "    }\n",
       "\n",
       "    .dataframe thead th {\n",
       "        text-align: right;\n",
       "    }\n",
       "</style>\n",
       "<table border=\"1\" class=\"dataframe\">\n",
       "  <thead>\n",
       "    <tr style=\"text-align: right;\">\n",
       "      <th>payment_method</th>\n",
       "      <th>category</th>\n",
       "      <th>Card</th>\n",
       "      <th>Cash</th>\n",
       "    </tr>\n",
       "  </thead>\n",
       "  <tbody>\n",
       "    <tr>\n",
       "      <th>0</th>\n",
       "      <td>Books</td>\n",
       "      <td>123487.65</td>\n",
       "      <td>103489.65</td>\n",
       "    </tr>\n",
       "    <tr>\n",
       "      <th>1</th>\n",
       "      <td>Clothing</td>\n",
       "      <td>17109361.28</td>\n",
       "      <td>13966323.36</td>\n",
       "    </tr>\n",
       "    <tr>\n",
       "      <th>2</th>\n",
       "      <td>Cosmetics</td>\n",
       "      <td>1038212.44</td>\n",
       "      <td>810394.46</td>\n",
       "    </tr>\n",
       "    <tr>\n",
       "      <th>3</th>\n",
       "      <td>Food &amp; Beverage</td>\n",
       "      <td>128940.42</td>\n",
       "      <td>102628.29</td>\n",
       "    </tr>\n",
       "    <tr>\n",
       "      <th>4</th>\n",
       "      <td>Shoes</td>\n",
       "      <td>10037843.25</td>\n",
       "      <td>8097493.64</td>\n",
       "    </tr>\n",
       "    <tr>\n",
       "      <th>5</th>\n",
       "      <td>Souvenir</td>\n",
       "      <td>98356.05</td>\n",
       "      <td>76080.78</td>\n",
       "    </tr>\n",
       "    <tr>\n",
       "      <th>6</th>\n",
       "      <td>Technology</td>\n",
       "      <td>8716050.00</td>\n",
       "      <td>7056000.00</td>\n",
       "    </tr>\n",
       "    <tr>\n",
       "      <th>7</th>\n",
       "      <td>Toys</td>\n",
       "      <td>594083.84</td>\n",
       "      <td>492620.80</td>\n",
       "    </tr>\n",
       "  </tbody>\n",
       "</table>\n",
       "</div>"
      ],
      "text/plain": [
       "payment_method         category         Card         Cash\n",
       "0                         Books    123487.65    103489.65\n",
       "1                      Clothing  17109361.28  13966323.36\n",
       "2                     Cosmetics   1038212.44    810394.46\n",
       "3               Food & Beverage    128940.42    102628.29\n",
       "4                         Shoes  10037843.25   8097493.64\n",
       "5                      Souvenir     98356.05     76080.78\n",
       "6                    Technology   8716050.00   7056000.00\n",
       "7                          Toys    594083.84    492620.80"
      ]
     },
     "execution_count": 28,
     "metadata": {},
     "output_type": "execute_result"
    }
   ],
   "source": [
    "grouped_data = group_and_sum('category')\n",
    "grouped_data"
   ]
  },
  {
   "cell_type": "code",
   "execution_count": 29,
   "id": "cdc9e2b2",
   "metadata": {},
   "outputs": [
    {
     "data": {
      "image/png": "[encoded data removed]",
      "text/plain": [
       "<Figure size 1000x300 with 1 Axes>"
      ]
     },
     "metadata": {},
     "output_type": "display_data"
    }
   ],
   "source": [
    "plot_percentage_by_group('category', figsize=(10, 3))"
   ]
  },
  {
   "cell_type": "markdown",
   "id": "8ee28f50",
   "metadata": {},
   "source": [
    "# Заключение\n",
    "Наблюденията ни сочат, че за периода от разгледаните 27 месеца няма особена промяна в използването на кредитни/дебитни карти. Изглежда това е твърде кратък период за такава промяна.\n",
    "Допускането, че възрастта указва влияние на използването на съвременни разплащателни средства също не е подтърдено от наблюдаваните данни\n",
    "\n",
    "Изследването показва, че използването на гредитна/дебитна карта или кеш не се влияе от възраст, и пол, както и не се се променя дръстично с времето\n",
    "\n"
   ]
  },
  {
   "cell_type": "markdown",
   "id": "ea6b697a",
   "metadata": {},
   "source": [
    "# Източници\n",
    "\n",
    "Dataset: \n",
    "\n",
    "[Customer Shopping Dataset - Retail Sales Data](https://www.kaggle.com/datasets/mehmettahiraslan/customer-shopping-dataset)\n",
    "\n",
    "\n",
    "\n",
    "Други изследвания с този дейтасет:\n",
    "\n",
    "[Shopping data analysis and visualisation](https://www.kaggle.com/code/faraahanwaaar/shopping-data-analysis-and-visualisation )\n",
    "\n",
    "\n",
    "[Customer shopping](https://www.kaggle.com/code/ilyai332/customer-shopping)\n",
    "\n",
    "\n",
    "[Groupby tutorial](https://www.kaggle.com/code/ahmadihossein/groupby-tutorial)\n",
    "\n"
   ]
  }
 ],
 "metadata": {
  "kernelspec": {
   "display_name": "Python 3 (ipykernel)",
   "language": "python",
   "name": "python3"
  },
  "language_info": {
   "codemirror_mode": {
    "name": "ipython",
    "version": 3
   },
   "file_extension": ".py",
   "mimetype": "text/x-python",
   "name": "python",
   "nbconvert_exporter": "python",
   "pygments_lexer": "ipython3",
   "version": "3.9.18"
  }
 },
 "nbformat": 4,
 "nbformat_minor": 5
}
